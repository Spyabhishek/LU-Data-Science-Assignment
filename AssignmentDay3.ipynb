{
 "cells": [
  {
   "cell_type": "code",
   "execution_count": 2,
   "metadata": {},
   "outputs": [],
   "source": [
    "import numpy as np"
   ]
  },
  {
   "cell_type": "code",
   "execution_count": 3,
   "metadata": {},
   "outputs": [
    {
     "name": "stdout",
     "output_type": "stream",
     "text": [
      "[ 2  5  8 11 14 17 20 23 26 29 32 35 38 41 44 47 50]\n"
     ]
    }
   ],
   "source": [
    "#Question 1\n",
    "arr = np.arange(2,51,3)\n",
    "print(arr)"
   ]
  },
  {
   "cell_type": "code",
   "execution_count": 14,
   "metadata": {},
   "outputs": [
    {
     "name": "stdout",
     "output_type": "stream",
     "text": [
      "123\n",
      "456\n",
      "[123 456]\n",
      "[123 456]\n"
     ]
    }
   ],
   "source": [
    "# Question 2\n",
    "\n",
    "arr1,arr2 = (list(map(int,input().split())) for i in range(2))\n",
    "\n",
    "arr1 = np.array(arr1)\n",
    "arr2 = np.array(arr2)\n",
    "\n",
    "print(np.concatenate((arr1,arr2)))\n",
    "\n",
    "print(np.sort(np.concatenate((arr1,arr2))))"
   ]
  },
  {
   "cell_type": "code",
   "execution_count": 16,
   "metadata": {},
   "outputs": [
    {
     "name": "stdout",
     "output_type": "stream",
     "text": [
      "(3, 3) 9\n"
     ]
    }
   ],
   "source": [
    "# Question 3\n",
    "\n",
    "\n",
    "arr = np.array([ [4,5,6] , [7,8,9] , [10,11,12] ])\n",
    "\n",
    "print(arr.shape,arr.size)"
   ]
  },
  {
   "cell_type": "code",
   "execution_count": 17,
   "metadata": {},
   "outputs": [
    {
     "name": "stdout",
     "output_type": "stream",
     "text": [
      "[[1 1 1]\n",
      " [2 2 2]\n",
      " [3 3 3]\n",
      " [4 4 4]\n",
      " [5 5 5]\n",
      " [6 6 6]]\n",
      "\n",
      "[[1 1 1 4 4 4]\n",
      " [2 2 2 5 5 5]\n",
      " [3 3 3 6 6 6]]\n"
     ]
    }
   ],
   "source": [
    "# Question 5\n",
    "\n",
    "arr1 = np.array([ [1,1,1] , [2,2,2] , [3,3,3] ])\n",
    "arr2 = np.array([ [4,4,4] , [5,5,5] , [6,6,6] ])\n",
    "\n",
    "print(np.vstack((arr1,arr2))) # row-wise sequence\n",
    "print() \n",
    "print(np.hstack((arr1,arr2))) # column-wise sequence"
   ]
  },
  {
   "cell_type": "code",
   "execution_count": 20,
   "metadata": {},
   "outputs": [
    {
     "name": "stdout",
     "output_type": "stream",
     "text": [
      "[1 2 3 4 5 6]\n",
      "(array([1, 2, 5, 6]), array([2, 4, 1, 2], dtype=int64))\n"
     ]
    }
   ],
   "source": [
    "# Question 6\n",
    "\n",
    "arr = np.array([ [1,2,2] , [3,4,5] , [5,6,6] ])\n",
    "\n",
    "print(np.unique(arr))\n",
    "arr = np.array([ [1,2,2] , [1,2,2] , [5,6,6] ])\n",
    "\n",
    "print(np.unique(arr,return_counts=True))"
   ]
  }
 ],
 "metadata": {
  "kernelspec": {
   "display_name": "Python 3",
   "language": "python",
   "name": "python3"
  },
  "language_info": {
   "codemirror_mode": {
    "name": "ipython",
    "version": 3
   },
   "file_extension": ".py",
   "mimetype": "text/x-python",
   "name": "python",
   "nbconvert_exporter": "python",
   "pygments_lexer": "ipython3",
   "version": "3.8.3"
  }
 },
 "nbformat": 4,
 "nbformat_minor": 4
}
